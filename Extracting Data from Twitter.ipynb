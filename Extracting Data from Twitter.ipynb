{
 "cells": [
  {
   "cell_type": "markdown",
   "id": "d060d04a",
   "metadata": {},
   "source": [
    "# Extracting Data from Twitter"
   ]
  },
  {
   "cell_type": "code",
   "execution_count": 1,
   "id": "7ef855d9",
   "metadata": {},
   "outputs": [
    {
     "name": "stdout",
     "output_type": "stream",
     "text": [
      "Requirement already satisfied: tweepy in c:\\users\\admin\\anaconda3\\lib\\site-packages (3.10.0)\n",
      "Requirement already satisfied: requests-oauthlib>=0.7.0 in c:\\users\\admin\\anaconda3\\lib\\site-packages (from tweepy) (1.3.0)\n",
      "Requirement already satisfied: six>=1.10.0 in c:\\users\\admin\\anaconda3\\lib\\site-packages (from tweepy) (1.15.0)\n",
      "Requirement already satisfied: requests[socks]>=2.11.1 in c:\\users\\admin\\anaconda3\\lib\\site-packages (from tweepy) (2.25.1)\n",
      "Requirement already satisfied: oauthlib>=3.0.0 in c:\\users\\admin\\anaconda3\\lib\\site-packages (from requests-oauthlib>=0.7.0->tweepy) (3.1.1)\n",
      "Requirement already satisfied: idna<3,>=2.5 in c:\\users\\admin\\anaconda3\\lib\\site-packages (from requests[socks]>=2.11.1->tweepy) (2.10)\n",
      "Requirement already satisfied: certifi>=2017.4.17 in c:\\users\\admin\\anaconda3\\lib\\site-packages (from requests[socks]>=2.11.1->tweepy) (2020.12.5)\n",
      "Requirement already satisfied: urllib3<1.27,>=1.21.1 in c:\\users\\admin\\anaconda3\\lib\\site-packages (from requests[socks]>=2.11.1->tweepy) (1.26.4)\n",
      "Requirement already satisfied: chardet<5,>=3.0.2 in c:\\users\\admin\\anaconda3\\lib\\site-packages (from requests[socks]>=2.11.1->tweepy) (4.0.0)\n",
      "Requirement already satisfied: PySocks!=1.5.7,>=1.5.6 in c:\\users\\admin\\anaconda3\\lib\\site-packages (from requests[socks]>=2.11.1->tweepy) (1.7.1)\n"
     ]
    }
   ],
   "source": [
    "#Install tweepy\n",
    "!pip install tweepy"
   ]
  },
  {
   "cell_type": "code",
   "execution_count": 2,
   "id": "95712b2b",
   "metadata": {},
   "outputs": [],
   "source": [
    "#Import Tweepy, Datetime and JSON\n",
    "import tweepy as tw\n",
    "import pandas as pd\n",
    "from csv import DictReader\n",
    "import re"
   ]
  },
  {
   "cell_type": "code",
   "execution_count": 3,
   "id": "addc8a00",
   "metadata": {},
   "outputs": [],
   "source": [
    "#Read the Twitter API Keys\n",
    "with open('TwitterKey.csv') as csv_file:\n",
    "    reader = DictReader(csv_file)\n",
    "    for line in reader:\n",
    "        consumer_key = line['consumer_key']\n",
    "        consumer_secret = line['consumer_secret']\n",
    "        access_token = line['access_token']\n",
    "        access_token_secret = line['access_token_secret']"
   ]
  },
  {
   "cell_type": "markdown",
   "id": "de08e767",
   "metadata": {},
   "source": [
    "## <font color = 'red'> Never publish your Keys!!! </font> "
   ]
  },
  {
   "cell_type": "code",
   "execution_count": 4,
   "id": "211637e2",
   "metadata": {},
   "outputs": [],
   "source": [
    "#Create authentication keys\n",
    "auth = tw.OAuthHandler(consumer_key,consumer_secret)"
   ]
  },
  {
   "cell_type": "code",
   "execution_count": 5,
   "id": "a3a0f1ce",
   "metadata": {},
   "outputs": [],
   "source": [
    "auth.set_access_token(access_token,access_token_secret)"
   ]
  },
  {
   "cell_type": "code",
   "execution_count": 6,
   "id": "3fbb2667",
   "metadata": {},
   "outputs": [],
   "source": [
    "api = tw.API(auth)\n",
    "public_tweets = api.home_timeline()"
   ]
  },
  {
   "cell_type": "code",
   "execution_count": 7,
   "id": "fa02bd05",
   "metadata": {},
   "outputs": [
    {
     "name": "stdout",
     "output_type": "stream",
     "text": [
      "'I lost my job as a teacher after refusing to get vaccinated against Covid' https://t.co/D1963Kvt0N\n",
      "ICYMI: Pooches, puppets and paintings\n",
      "\n",
      "https://t.co/eXj7H089BQ https://t.co/9PivKzq4za\n",
      "AQ Khan: The most dangerous man in the world? https://t.co/vcBX5h9pRu\n",
      "UK to resettle teenage Afghan women footballers and families https://t.co/RG7YZFqVlp\n",
      "Power returns to Lebanon after 24-hour blackout https://t.co/1vG8nnKgtr\n",
      "Czech election: Milos Zeman in intensive care after vote https://t.co/FbozxwqRNE\n",
      "Biodiversity loss risks 'ecological meltdown' - scientists https://t.co/2xSUdWpSK0\n",
      "'Why drilling holes in fences can save hedgehogs' https://t.co/SEm04yOrxb\n",
      "Vegan food blogger wins World Porridge Making Championships https://t.co/ADbHfY9Vbi\n",
      "The 25-year-old who's been a clown for two decades https://t.co/KUEpAlDDMH\n",
      "Colombian nun kidnapped in Mali in 2017 is freed https://t.co/q4gCLGt6lu\n",
      "We will not bow to Beijing pressure, says Taiwan leader https://t.co/KBJKFScDB7\n",
      "Abdul Qadeer Khan: 'Father of Pakistan's nuclear bomb' dies https://t.co/cRfDKnb8MK\n",
      "Tyson Fury defeats Deontay Wilder to retain WBC heavyweight title in Las Vegas https://t.co/57VGx2cX5M\n",
      "Iraqis vote in first parliamentary election since 2019 mass protests https://t.co/HGCr2MfvMH\n",
      "Guatemala police free 126 migrants from abandoned container https://t.co/OLJexWuyf4\n",
      "Thriller film sinks teeth into Hungary's opposition https://t.co/9UGYUrjYRy\n",
      "Covid vaccine: Why these US workers won't get jabbed https://t.co/qWMCCnmqMp\n",
      "Facebook to clamp down on illegal sale of Amazon rainforest, following BBC investigation\n",
      "\n",
      "https://t.co/QTl66I8DiT\n",
      "Performer at Moscow's Bolshoi Theatre killed by falling scenery https://t.co/zPKrlQswER\n"
     ]
    }
   ],
   "source": [
    "#Print tweets\n",
    "for tweet in public_tweets:\n",
    "    print(tweet.text)"
   ]
  },
  {
   "cell_type": "code",
   "execution_count": 8,
   "id": "e66d3d95",
   "metadata": {},
   "outputs": [],
   "source": [
    "#Get tweets from specific user\n",
    "def take_tweets(user,limit=5):\n",
    "    results = api.user_timeline(screen_name=user,count=limit,tweet_mode='extended')\n",
    "    tweets = []\n",
    "    for result in results:\n",
    "        tweet = re.sub(r'http\\S+', '', result.full_text)\n",
    "        tweets.append(tweet.replace('\\n', ' '))\n",
    "    return tweets"
   ]
  },
  {
   "cell_type": "code",
   "execution_count": 9,
   "id": "9f4f5776",
   "metadata": {
    "scrolled": true
   },
   "outputs": [
    {
     "data": {
      "text/plain": [
       "[\"We're honored to be nominated as a top startup by The Startup Pill. \",\n",
       " 'Airbnb (ABNB) continues to make headlines ahead of its IPO. Download a Daloopa model (free) to analyze for yourself. ',\n",
       " '',\n",
       " 'In our ABNB model we found the $ change in revenue has been decelerating, but the $ change in operating costs have been accelerating. Begs a lot of questions around operating leverage.  Type \"YES\" in comments below to get our ABNB model for free, and I\\'ll send it over. ',\n",
       " \"We are hiring! Looking for Sales Development Reps (SDR's)  \"]"
      ]
     },
     "execution_count": 9,
     "metadata": {},
     "output_type": "execute_result"
    }
   ],
   "source": [
    "#Show the tweets\n",
    "take_tweets('Daloopa1')"
   ]
  },
  {
   "cell_type": "code",
   "execution_count": 10,
   "id": "2e2fc87b",
   "metadata": {},
   "outputs": [
    {
     "data": {
      "text/plain": [
       "[\"We're honored to be nominated as a top startup by The Startup Pill. \",\n",
       " 'Airbnb (ABNB) continues to make headlines ahead of its IPO. Download a Daloopa model (free) to analyze for yourself. ',\n",
       " '',\n",
       " 'In our ABNB model we found the $ change in revenue has been decelerating, but the $ change in operating costs have been accelerating. Begs a lot of questions around operating leverage.  Type \"YES\" in comments below to get our ABNB model for free, and I\\'ll send it over. ',\n",
       " \"We are hiring! Looking for Sales Development Reps (SDR's)  \",\n",
       " 'Honored to receive the annual HFM Global Award for Best technology newcomer. High quality fundamental financial data has been missing in the investment industry for way too long! Speak to us on how we can use AI to help you with your financial modeling needs. #data #hedgefunds ',\n",
       " 'Excited to see us cited in Seeking Alpha:   ',\n",
       " 'Analysts spend 60-90 mins updating each model every qtr = 1 week/qtr. = 1 month / yr.  Daloopa believes there are better ways to spend 1 month. We automate this process. Better results in less time. See if we can make earnings more fruitful. Free trials: ']"
      ]
     },
     "execution_count": 10,
     "metadata": {},
     "output_type": "execute_result"
    }
   ],
   "source": [
    "#Show more tweets\n",
    "take_tweets('Daloopa1',limit=10)"
   ]
  },
  {
   "cell_type": "code",
   "execution_count": 11,
   "id": "e717a2a0",
   "metadata": {},
   "outputs": [],
   "source": [
    "#Show the tweets links\n",
    "def take_tweet_links(user,limit=5):\n",
    "    results = api.user_timeline(screen_name=user,count=limit)\n",
    "    for result in results:\n",
    "        print(result.text)"
   ]
  },
  {
   "cell_type": "code",
   "execution_count": 12,
   "id": "41e9995a",
   "metadata": {},
   "outputs": [
    {
     "name": "stdout",
     "output_type": "stream",
     "text": [
      "We're honored to be nominated as a top startup by The Startup Pill. https://t.co/K3yDv4iifi\n",
      "Airbnb (ABNB) continues to make headlines ahead of its IPO. Download a Daloopa model (free) to analyze for yourself. https://t.co/JmyOYshyRr\n",
      "https://t.co/CrBx150g8V\n",
      "In our ABNB model we found the $ change in revenue has been decelerating, but the $ change in operating costs have… https://t.co/LihkVqnvaa\n",
      "We are hiring! Looking for Sales Development Reps (SDR's)\n",
      "\n",
      "https://t.co/gMbd8vz1zR\n"
     ]
    }
   ],
   "source": [
    "take_tweet_links('Daloopa1')"
   ]
  },
  {
   "cell_type": "code",
   "execution_count": 13,
   "id": "4a59110a",
   "metadata": {},
   "outputs": [],
   "source": [
    "#Iterate over user tweets\n",
    "tweets_collection = tw.Cursor(api.user_timeline,screen_name='@Daloopa1').items(10)"
   ]
  },
  {
   "cell_type": "code",
   "execution_count": 14,
   "id": "60c9afad",
   "metadata": {},
   "outputs": [
    {
     "data": {
      "text/plain": [
       "<tweepy.cursor.ItemIterator at 0x1ce648a9550>"
      ]
     },
     "execution_count": 14,
     "metadata": {},
     "output_type": "execute_result"
    }
   ],
   "source": [
    "tweets_collection"
   ]
  },
  {
   "cell_type": "code",
   "execution_count": 15,
   "id": "05e0f0b3",
   "metadata": {},
   "outputs": [
    {
     "name": "stdout",
     "output_type": "stream",
     "text": [
      "We're honored to be nominated as a top startup by The Startup Pill. https://t.co/K3yDv4iifi\n",
      "Airbnb (ABNB) continues to make headlines ahead of its IPO. Download a Daloopa model (free) to analyze for yourself. https://t.co/JmyOYshyRr\n",
      "https://t.co/CrBx150g8V\n",
      "In our ABNB model we found the $ change in revenue has been decelerating, but the $ change in operating costs have… https://t.co/LihkVqnvaa\n",
      "We are hiring! Looking for Sales Development Reps (SDR's)\n",
      "\n",
      "https://t.co/gMbd8vz1zR\n",
      "Honored to receive the annual HFM Global Award for Best technology newcomer. High quality fundamental financial dat… https://t.co/mQfSuBz3RO\n",
      "Excited to see us cited in Seeking Alpha: \n",
      "\n",
      "https://t.co/fOBXaMe5B3\n",
      "Analysts spend 60-90 mins updating each model every qtr = 1 week/qtr. = 1 month / yr.\n",
      "\n",
      "Daloopa believes there are b… https://t.co/wwegJ1Q99I\n"
     ]
    }
   ],
   "source": [
    "for tweet in tweets_collection:\n",
    "    print(tweet.text)"
   ]
  },
  {
   "cell_type": "code",
   "execution_count": 16,
   "id": "26710635",
   "metadata": {},
   "outputs": [],
   "source": [
    "#Make a list of tweets about Artificial Intellinge\n",
    "tweet_collection2 = tw.Cursor(api.search,'Artificial Intelligence').items(10)"
   ]
  },
  {
   "cell_type": "code",
   "execution_count": 17,
   "id": "4416f4ba",
   "metadata": {},
   "outputs": [
    {
     "data": {
      "text/plain": [
       "<tweepy.cursor.ItemIterator at 0x1ce648c6790>"
      ]
     },
     "execution_count": 17,
     "metadata": {},
     "output_type": "execute_result"
    }
   ],
   "source": [
    "tweet_collection2"
   ]
  },
  {
   "cell_type": "code",
   "execution_count": 18,
   "id": "75a6d274",
   "metadata": {},
   "outputs": [],
   "source": [
    "tweet_list = [[tweet.user.screen_name, tweet.user.location] for tweet in tweet_collection2]"
   ]
  },
  {
   "cell_type": "code",
   "execution_count": 19,
   "id": "650ce47b",
   "metadata": {
    "scrolled": true
   },
   "outputs": [
    {
     "data": {
      "text/plain": [
       "[['edisonjsapps', 'Colombia'],\n",
       " ['PostYourAdsBiz', ''],\n",
       " ['ictAni132', 'Bangalore'],\n",
       " ['Theaceslisoo', 'she/her black'],\n",
       " ['Artificialbra1n', ''],\n",
       " ['Elizabillie', 'Los Angeles, CA'],\n",
       " ['ManvithNaga', ''],\n",
       " ['manishrupapara', 'Mumbai'],\n",
       " ['bluesky_42_', ''],\n",
       " ['janiehaddad', 'Hollywood, darling. ']]"
      ]
     },
     "execution_count": 19,
     "metadata": {},
     "output_type": "execute_result"
    }
   ],
   "source": [
    "tweet_list"
   ]
  },
  {
   "cell_type": "code",
   "execution_count": 20,
   "id": "1977b081",
   "metadata": {},
   "outputs": [],
   "source": [
    "tweet_dataframe = pd.DataFrame(data=tweet_list,columns=['User','Location'])"
   ]
  },
  {
   "cell_type": "code",
   "execution_count": 21,
   "id": "cd3b6d2e",
   "metadata": {},
   "outputs": [
    {
     "data": {
      "text/html": [
       "<div>\n",
       "<style scoped>\n",
       "    .dataframe tbody tr th:only-of-type {\n",
       "        vertical-align: middle;\n",
       "    }\n",
       "\n",
       "    .dataframe tbody tr th {\n",
       "        vertical-align: top;\n",
       "    }\n",
       "\n",
       "    .dataframe thead th {\n",
       "        text-align: right;\n",
       "    }\n",
       "</style>\n",
       "<table border=\"1\" class=\"dataframe\">\n",
       "  <thead>\n",
       "    <tr style=\"text-align: right;\">\n",
       "      <th></th>\n",
       "      <th>User</th>\n",
       "      <th>Location</th>\n",
       "    </tr>\n",
       "  </thead>\n",
       "  <tbody>\n",
       "    <tr>\n",
       "      <th>0</th>\n",
       "      <td>edisonjsapps</td>\n",
       "      <td>Colombia</td>\n",
       "    </tr>\n",
       "    <tr>\n",
       "      <th>1</th>\n",
       "      <td>PostYourAdsBiz</td>\n",
       "      <td></td>\n",
       "    </tr>\n",
       "    <tr>\n",
       "      <th>2</th>\n",
       "      <td>ictAni132</td>\n",
       "      <td>Bangalore</td>\n",
       "    </tr>\n",
       "    <tr>\n",
       "      <th>3</th>\n",
       "      <td>Theaceslisoo</td>\n",
       "      <td>she/her black</td>\n",
       "    </tr>\n",
       "    <tr>\n",
       "      <th>4</th>\n",
       "      <td>Artificialbra1n</td>\n",
       "      <td></td>\n",
       "    </tr>\n",
       "    <tr>\n",
       "      <th>5</th>\n",
       "      <td>Elizabillie</td>\n",
       "      <td>Los Angeles, CA</td>\n",
       "    </tr>\n",
       "    <tr>\n",
       "      <th>6</th>\n",
       "      <td>ManvithNaga</td>\n",
       "      <td></td>\n",
       "    </tr>\n",
       "    <tr>\n",
       "      <th>7</th>\n",
       "      <td>manishrupapara</td>\n",
       "      <td>Mumbai</td>\n",
       "    </tr>\n",
       "    <tr>\n",
       "      <th>8</th>\n",
       "      <td>bluesky_42_</td>\n",
       "      <td></td>\n",
       "    </tr>\n",
       "    <tr>\n",
       "      <th>9</th>\n",
       "      <td>janiehaddad</td>\n",
       "      <td>Hollywood, darling.</td>\n",
       "    </tr>\n",
       "  </tbody>\n",
       "</table>\n",
       "</div>"
      ],
      "text/plain": [
       "              User              Location\n",
       "0     edisonjsapps              Colombia\n",
       "1   PostYourAdsBiz                      \n",
       "2        ictAni132             Bangalore\n",
       "3     Theaceslisoo         she/her black\n",
       "4  Artificialbra1n                      \n",
       "5      Elizabillie       Los Angeles, CA\n",
       "6      ManvithNaga                      \n",
       "7   manishrupapara                Mumbai\n",
       "8      bluesky_42_                      \n",
       "9      janiehaddad  Hollywood, darling. "
      ]
     },
     "execution_count": 21,
     "metadata": {},
     "output_type": "execute_result"
    }
   ],
   "source": [
    "tweet_dataframe"
   ]
  },
  {
   "cell_type": "code",
   "execution_count": null,
   "id": "55db4a6a",
   "metadata": {},
   "outputs": [],
   "source": []
  }
 ],
 "metadata": {
  "kernelspec": {
   "display_name": "Python 3",
   "language": "python",
   "name": "python3"
  },
  "language_info": {
   "codemirror_mode": {
    "name": "ipython",
    "version": 3
   },
   "file_extension": ".py",
   "mimetype": "text/x-python",
   "name": "python",
   "nbconvert_exporter": "python",
   "pygments_lexer": "ipython3",
   "version": "3.8.8"
  }
 },
 "nbformat": 4,
 "nbformat_minor": 5
}
