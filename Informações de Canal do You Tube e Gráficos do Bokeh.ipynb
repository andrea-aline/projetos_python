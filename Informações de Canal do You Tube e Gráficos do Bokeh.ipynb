{
 "cells": [
  {
   "cell_type": "markdown",
   "id": "56af4170",
   "metadata": {},
   "source": [
    "# Informações de Canal do You Tube e Gráficos do Bokeh"
   ]
  },
  {
   "cell_type": "code",
   "execution_count": null,
   "id": "5c8f572f",
   "metadata": {},
   "outputs": [],
   "source": [
    "#Importa as bibliotecas \n",
    "import urllib \n",
    "from urllib.request import urlopen\n",
    "import json\n",
    "from csv import DictReader"
   ]
  },
  {
   "cell_type": "code",
   "execution_count": null,
   "id": "9e12b685",
   "metadata": {},
   "outputs": [],
   "source": [
    "import pandas as pd"
   ]
  },
  {
   "cell_type": "code",
   "execution_count": null,
   "id": "6b3e3454",
   "metadata": {},
   "outputs": [],
   "source": [
    "import bokeh\n",
    "from bokeh.io import show,output_notebook\n",
    "from bokeh.plotting import figure, output_file\n",
    "from bokeh.models import ColumnDataSource\n",
    "from bokeh.transform import factor_cmap\n",
    "from bokeh.palettes import Spectral6"
   ]
  },
  {
   "cell_type": "code",
   "execution_count": null,
   "id": "6094ae4e",
   "metadata": {},
   "outputs": [],
   "source": [
    "#Carrega o bokeh\n",
    "output_notebook()"
   ]
  },
  {
   "cell_type": "code",
   "execution_count": null,
   "id": "58e8c2da",
   "metadata": {},
   "outputs": [],
   "source": [
    "#Impede que o bokeh abra novas abas\n",
    "bokeh.io.reset_output()\n",
    "bokeh.io.output_notebook()"
   ]
  },
  {
   "cell_type": "code",
   "execution_count": null,
   "id": "955be1c2",
   "metadata": {},
   "outputs": [],
   "source": [
    "from bokeh.models import ColumnDataSource, Label, LabelSet, Range1d"
   ]
  },
  {
   "cell_type": "code",
   "execution_count": null,
   "id": "3c52330c",
   "metadata": {},
   "outputs": [],
   "source": [
    "#Captura a chave API a partir de um arquivo csv\n",
    "#O arquivo csv está salvo na mesma pasta em que esse notebook foi feito\n",
    "\n",
    "with open('YouTubeApiKey.csv') as arquivo_csv:\n",
    "    reader = DictReader(arquivo_csv)\n",
    "    for linha in reader:\n",
    "        chave_api = linha['youTubeApiKey']"
   ]
  },
  {
   "cell_type": "markdown",
   "id": "bb014fef",
   "metadata": {},
   "source": [
    "# JAMAIS PUBLIQUE A SUA CHAVE API!!!!!!"
   ]
  },
  {
   "cell_type": "code",
   "execution_count": null,
   "id": "da30b1a7",
   "metadata": {},
   "outputs": [],
   "source": [
    "#Declara o ID do canal da TransUnion Brasil\n",
    "canal_ID = 'UCApAENg_n8hM8uTQKh-LxCg'"
   ]
  },
  {
   "cell_type": "code",
   "execution_count": null,
   "id": "39bce6a7",
   "metadata": {},
   "outputs": [],
   "source": [
    "#Declara as variáveis para manipulação do canal\n",
    "url = 'https://www.googleapis.com/youtube/v3/search?part=snippet&channelId='+canal_ID+'&maxResults=50&type=video&key='+chave_api\n",
    "response =  urllib.request.urlopen(url)\n",
    "videos = json.load(response) \n",
    "\n",
    "#Lista que armazena os ids dos vídeos\n",
    "videoMetadata = [] \n",
    "\n",
    "#Repetição para inserir os vídeos na lista videoMetadata\n",
    "for video in videos['items']:\n",
    "    if video['id']['kind'] == 'youtube#video':\n",
    "        videoMetadata.append(video['id']['videoId'])"
   ]
  },
  {
   "cell_type": "code",
   "execution_count": null,
   "id": "3c94da99",
   "metadata": {
    "scrolled": true
   },
   "outputs": [],
   "source": [
    "for metadata in videoMetadata:\n",
    "    Video_ID = metadata\n",
    "    Video_Url = 'https://www.googleapis.com/youtube/v3/videos?part=snippet%2CcontentDetails%2Cstatistics&id='\n",
    "        +Video_ID+'&key='+chave_api\n",
    "    response = urllib.request.urlopen(Video_Url)\n",
    "    videos = json.load(response) \n",
    "    videoMetadata = [] \n",
    "    for video in videos['items']: \n",
    "        if video['kind'] == 'youtube#video':\n",
    "        \n",
    "            variaveis =  ['Nº de Likes','Nº de Dislikes','Nº de Comentários','Nº de Favoritos']\n",
    "            contagem =   [int(video['statistics']['likeCount']),\n",
    "                          int(video['statistics']['dislikeCount']),int(video['statistics']['commentCount']),\n",
    "                          int(video['statistics']['favoriteCount'])]\n",
    "            \n",
    "            source = ColumnDataSource(data = dict(variaveis=variaveis,contagem = contagem))\n",
    "            \n",
    "            p = figure(x_range=variaveis,plot_height=200,toolbar_location=None,title=video['snippet']['title'])\n",
    "            p.vbar(x='variaveis',top='contagem',width=0.7,source=source,line_color='white',\n",
    "               fill_color=factor_cmap('variaveis',palette=Spectral6,factors=variaveis))\n",
    "            \n",
    "            citation = Label(x=100, y=120, x_units='screen', y_units='screen',\n",
    "                 text='Nº de Visualizações do Vídeo:'+video['statistics']['viewCount'], render_mode='css',\n",
    "                 border_line_color='black', border_line_alpha=0,\n",
    "                 background_fill_color='white', background_fill_alpha=1.0)\n",
    "        \n",
    "            p.xgrid.grid_line_color = None\n",
    "            p.ygrid.grid_line_color = None\n",
    "            p.y_range.start =0\n",
    "            p.y_range.end = 20\n",
    "            p.add_layout(citation)\n",
    "            \n",
    "            print()\n",
    "            \n",
    "            show(p)"
   ]
  },
  {
   "cell_type": "code",
   "execution_count": null,
   "id": "46bd1dd6",
   "metadata": {},
   "outputs": [],
   "source": []
  }
 ],
 "metadata": {
  "kernelspec": {
   "display_name": "Python 3",
   "language": "python",
   "name": "python3"
  },
  "language_info": {
   "codemirror_mode": {
    "name": "ipython",
    "version": 3
   },
   "file_extension": ".py",
   "mimetype": "text/x-python",
   "name": "python",
   "nbconvert_exporter": "python",
   "pygments_lexer": "ipython3",
   "version": "3.8.8"
  }
 },
 "nbformat": 4,
 "nbformat_minor": 5
}
