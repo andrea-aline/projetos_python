{
 "cells": [
  {
   "cell_type": "markdown",
   "id": "21134303",
   "metadata": {},
   "source": [
    "# Manipular Planilhas Excel - Parte 1"
   ]
  },
  {
   "cell_type": "code",
   "execution_count": 1,
   "id": "4d4d7b3d",
   "metadata": {},
   "outputs": [
    {
     "name": "stdout",
     "output_type": "stream",
     "text": [
      "Requirement already satisfied: openpyxl in c:\\users\\admin\\anaconda3\\lib\\site-packages (3.0.7)\n",
      "Requirement already satisfied: et-xmlfile in c:\\users\\admin\\anaconda3\\lib\\site-packages (from openpyxl) (1.0.1)\n"
     ]
    }
   ],
   "source": [
    "#Instala a biblioteca\n",
    "!pip install openpyxl"
   ]
  },
  {
   "cell_type": "code",
   "execution_count": 2,
   "id": "c18c4597",
   "metadata": {},
   "outputs": [],
   "source": [
    "#Importa a biblioteca, primeiramente, para criar um workbook\n",
    "from openpyxl import Workbook"
   ]
  },
  {
   "cell_type": "code",
   "execution_count": 3,
   "id": "8b255e2b",
   "metadata": {},
   "outputs": [],
   "source": [
    "#Cria um workbook, o qual sempre é criado com, ao menos, uma worksheet(aba)\n",
    "wb = Workbook()"
   ]
  },
  {
   "cell_type": "code",
   "execution_count": 4,
   "id": "369ed7e0",
   "metadata": {},
   "outputs": [],
   "source": [
    "#Acessa a worksheet ativa\n",
    "ws = wb.active"
   ]
  },
  {
   "cell_type": "code",
   "execution_count": 5,
   "id": "5bf0dedb",
   "metadata": {},
   "outputs": [],
   "source": [
    "#Cria mais worksheets\n",
    "ws1 = wb.create_sheet('Mysheet') #Por padrão, essa aba é posicionada no final\n",
    "ws2 = wb.create_sheet('Mysheet',0) #Insere na primeira posição\n",
    "ws3 = wb.create_sheet('Mysheet',-1) #Insere no final"
   ]
  },
  {
   "cell_type": "code",
   "execution_count": 6,
   "id": "cf0f39ed",
   "metadata": {},
   "outputs": [],
   "source": [
    "#Renomeia as abas\n",
    "ws1.title = 'Planilha1'\n",
    "ws2.title = 'Planilha2'\n",
    "ws3.title = 'Planilha3'"
   ]
  },
  {
   "cell_type": "code",
   "execution_count": 7,
   "id": "0ed665f3",
   "metadata": {},
   "outputs": [],
   "source": [
    "#Muda a cor das abas\n",
    "ws1.sheet_properties.tabColor = 'CCFFCC' \n",
    "ws2.sheet_properties.tabColor = 'CCCCFF'\n",
    "ws3.sheet_properties.tabColor = 'FFCCFF'"
   ]
  },
  {
   "cell_type": "markdown",
   "id": "402b8c07",
   "metadata": {},
   "source": [
    "##  Manipular células"
   ]
  },
  {
   "cell_type": "code",
   "execution_count": 8,
   "id": "7ca7e3bd",
   "metadata": {},
   "outputs": [],
   "source": [
    "#Células podem ser acessadas diretamente\n",
    "#Nesse caso, acessa a célula A4\n",
    "cel1 = ws['A4']"
   ]
  },
  {
   "cell_type": "code",
   "execution_count": 9,
   "id": "8a1bb7ec",
   "metadata": {},
   "outputs": [],
   "source": [
    "#Atribui um valor a uma célula\n",
    "cel1 = 5"
   ]
  },
  {
   "cell_type": "markdown",
   "id": "ef0ba4ce",
   "metadata": {},
   "source": [
    "## Acessando várias células"
   ]
  },
  {
   "cell_type": "code",
   "execution_count": 10,
   "id": "e30d6786",
   "metadata": {},
   "outputs": [],
   "source": [
    "#Acessa um intervalo de células\n",
    "cell_range = ws['A1:C2']"
   ]
  },
  {
   "cell_type": "code",
   "execution_count": 11,
   "id": "c08c9ef6",
   "metadata": {},
   "outputs": [],
   "source": [
    "#Intervalos de células ou colunas podem ser obtidas de maneira similar\n",
    "colC = ws['C']\n",
    "col_range = ws['C:D']\n",
    "row10 = ws[10]\n",
    "row_range = ws[5:10]"
   ]
  },
  {
   "cell_type": "code",
   "execution_count": 12,
   "id": "ca3011d3",
   "metadata": {},
   "outputs": [
    {
     "data": {
      "text/plain": [
       "((<Cell 'Planilha2'.A1>, <Cell 'Planilha2'.B1>, <Cell 'Planilha2'.C1>),\n",
       " (<Cell 'Planilha2'.A2>, <Cell 'Planilha2'.B2>, <Cell 'Planilha2'.C2>),\n",
       " (<Cell 'Planilha2'.A3>, <Cell 'Planilha2'.B3>, <Cell 'Planilha2'.C3>),\n",
       " (<Cell 'Planilha2'.A4>, <Cell 'Planilha2'.B4>, <Cell 'Planilha2'.C4>),\n",
       " (<Cell 'Planilha2'.A5>, <Cell 'Planilha2'.B5>, <Cell 'Planilha2'.C5>),\n",
       " (<Cell 'Planilha2'.A6>, <Cell 'Planilha2'.B6>, <Cell 'Planilha2'.C6>),\n",
       " (<Cell 'Planilha2'.A7>, <Cell 'Planilha2'.B7>, <Cell 'Planilha2'.C7>),\n",
       " (<Cell 'Planilha2'.A8>, <Cell 'Planilha2'.B8>, <Cell 'Planilha2'.C8>),\n",
       " (<Cell 'Planilha2'.A9>, <Cell 'Planilha2'.B9>, <Cell 'Planilha2'.C9>))"
      ]
     },
     "execution_count": 12,
     "metadata": {},
     "output_type": "execute_result"
    }
   ],
   "source": [
    "#Itera ao longo de um intervalo de células\n",
    "ws = wb.active\n",
    "ws['C9'] = 'Hello World'\n",
    "tuple(ws.rows)"
   ]
  },
  {
   "cell_type": "code",
   "execution_count": 13,
   "id": "35c2246b",
   "metadata": {},
   "outputs": [
    {
     "data": {
      "text/plain": [
       "((<Cell 'Planilha2'.A1>,\n",
       "  <Cell 'Planilha2'.A2>,\n",
       "  <Cell 'Planilha2'.A3>,\n",
       "  <Cell 'Planilha2'.A4>,\n",
       "  <Cell 'Planilha2'.A5>,\n",
       "  <Cell 'Planilha2'.A6>,\n",
       "  <Cell 'Planilha2'.A7>,\n",
       "  <Cell 'Planilha2'.A8>,\n",
       "  <Cell 'Planilha2'.A9>),\n",
       " (<Cell 'Planilha2'.B1>,\n",
       "  <Cell 'Planilha2'.B2>,\n",
       "  <Cell 'Planilha2'.B3>,\n",
       "  <Cell 'Planilha2'.B4>,\n",
       "  <Cell 'Planilha2'.B5>,\n",
       "  <Cell 'Planilha2'.B6>,\n",
       "  <Cell 'Planilha2'.B7>,\n",
       "  <Cell 'Planilha2'.B8>,\n",
       "  <Cell 'Planilha2'.B9>),\n",
       " (<Cell 'Planilha2'.C1>,\n",
       "  <Cell 'Planilha2'.C2>,\n",
       "  <Cell 'Planilha2'.C3>,\n",
       "  <Cell 'Planilha2'.C4>,\n",
       "  <Cell 'Planilha2'.C5>,\n",
       "  <Cell 'Planilha2'.C6>,\n",
       "  <Cell 'Planilha2'.C7>,\n",
       "  <Cell 'Planilha2'.C8>,\n",
       "  <Cell 'Planilha2'.C9>))"
      ]
     },
     "execution_count": 13,
     "metadata": {},
     "output_type": "execute_result"
    }
   ],
   "source": [
    "#Itera ao longo de um intervalo de colunas\n",
    "tuple(ws.columns)"
   ]
  },
  {
   "cell_type": "markdown",
   "id": "0fc7c470",
   "metadata": {},
   "source": [
    "## Somente valores"
   ]
  },
  {
   "cell_type": "code",
   "execution_count": 14,
   "id": "6bcce11e",
   "metadata": {},
   "outputs": [
    {
     "name": "stdout",
     "output_type": "stream",
     "text": [
      "None\n",
      "None\n",
      "None\n",
      "None\n",
      "None\n",
      "None\n",
      "None\n",
      "None\n",
      "None\n",
      "None\n",
      "None\n",
      "None\n",
      "None\n",
      "None\n",
      "None\n",
      "None\n",
      "None\n",
      "None\n",
      "None\n",
      "None\n",
      "None\n",
      "None\n",
      "None\n",
      "None\n",
      "None\n",
      "None\n",
      "Hello World\n"
     ]
    }
   ],
   "source": [
    "#Itera ao longo das linhas e retorna o valor das células\n",
    "for row in ws.values:\n",
    "    for value in row:\n",
    "        print(value)"
   ]
  },
  {
   "cell_type": "code",
   "execution_count": 15,
   "id": "90cc0aa2",
   "metadata": {},
   "outputs": [
    {
     "name": "stdout",
     "output_type": "stream",
     "text": [
      "Hi\n"
     ]
    }
   ],
   "source": [
    "#Atribui um valor a uma célula\n",
    "cel2 = ws['A5']\n",
    "cel2.value = 'Hi'\n",
    "print(cel2.value)"
   ]
  },
  {
   "cell_type": "code",
   "execution_count": 16,
   "id": "af05adc1",
   "metadata": {},
   "outputs": [],
   "source": [
    "#Salvando em um arquivo\n",
    "wb.save('Planilha_Python.xlsx')"
   ]
  },
  {
   "cell_type": "markdown",
   "id": "518636b0",
   "metadata": {},
   "source": [
    "Esse é o resultado:"
   ]
  },
  {
   "cell_type": "code",
   "execution_count": 17,
   "id": "848e065c",
   "metadata": {},
   "outputs": [],
   "source": [
    "from IPython.display import Image"
   ]
  },
  {
   "cell_type": "code",
   "execution_count": 18,
   "id": "b41ec42a",
   "metadata": {},
   "outputs": [
    {
     "data": {
      "image/png": "[encoded data removed]",
      "text/plain": [
       "<IPython.core.display.Image object>"
      ]
     },
     "execution_count": 18,
     "metadata": {
      "image/png": {
       "height": 800,
       "width": 800
      }
     },
     "output_type": "execute_result"
    }
   ],
   "source": [
    "Image(filename ='excel.png',width=800,height=800)"
   ]
  },
  {
   "cell_type": "code",
   "execution_count": null,
   "id": "2983d89d",
   "metadata": {},
   "outputs": [],
   "source": []
  }
 ],
 "metadata": {
  "kernelspec": {
   "display_name": "Python 3",
   "language": "python",
   "name": "python3"
  },
  "language_info": {
   "codemirror_mode": {
    "name": "ipython",
    "version": 3
   },
   "file_extension": ".py",
   "mimetype": "text/x-python",
   "name": "python",
   "nbconvert_exporter": "python",
   "pygments_lexer": "ipython3",
   "version": "3.8.8"
  }
 },
 "nbformat": 4,
 "nbformat_minor": 5
}
