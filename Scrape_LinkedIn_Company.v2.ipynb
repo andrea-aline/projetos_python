{
 "cells": [
  {
   "cell_type": "markdown",
   "id": "a196ad3c",
   "metadata": {},
   "source": [
    "# Scrape LinkedIn Company Page info"
   ]
  },
  {
   "cell_type": "markdown",
   "id": "4dcfe339",
   "metadata": {},
   "source": [
    "Obs: when running this code, it will show a lot of warning messages claiming that some methods are deprecated.\n",
    "However, I decided to keep that way because this methods are clearer in comparison to the new methods"
   ]
  },
  {
   "cell_type": "code",
   "execution_count": null,
   "id": "dda400fb",
   "metadata": {},
   "outputs": [],
   "source": [
    "#Import the libraries\n",
    "from selenium import webdriver\n",
    "from csv import DictReader\n",
    "import pandas as pd"
   ]
  },
  {
   "cell_type": "code",
   "execution_count": null,
   "id": "39ea50d5",
   "metadata": {},
   "outputs": [],
   "source": [
    "#Locates the webdriver\n",
    "driver = webdriver.Chrome('\\\\Users\\\\Admin\\\\Downloads\\\\chromedriver-py-95.0.4638.17\\\\chromedriver-py-95.0.4638.17\\\\chromedriver_py\\\\chromedriver_win32.exe')"
   ]
  },
  {
   "cell_type": "code",
   "execution_count": null,
   "id": "f7156396",
   "metadata": {},
   "outputs": [],
   "source": [
    "#Navigates to the login LinkedIn page\n",
    "driver.get('https://www.linkedin.com/login/pt?fromSignIn=true&trk=guest_homepage-basic_nav-header-signin')\n",
    "\n",
    "#Minimize the window\n",
    "driver.minimize_window()"
   ]
  },
  {
   "cell_type": "code",
   "execution_count": null,
   "id": "2c2c6820",
   "metadata": {},
   "outputs": [],
   "source": [
    "#Reads login info\n",
    "with open('login_info.csv') as csv_file:\n",
    "    reader = DictReader(csv_file)\n",
    "    for line in reader:\n",
    "        username = line['username']\n",
    "        password = line['password']"
   ]
  },
  {
   "cell_type": "code",
   "execution_count": null,
   "id": "02b8f5b2",
   "metadata": {},
   "outputs": [],
   "source": [
    "#locate email form\n",
    "username_log = driver.find_element_by_id('username')\n",
    "username_log.send_keys(username)\n",
    "\n",
    "#Locate password form\n",
    "password_log = driver.find_element_by_id('password')\n",
    "password_log.send_keys(password)\n",
    "\n",
    "#Locate the login button\n",
    "log_in_button = driver.find_element_by_class_name('login__form_action_container')\n",
    "log_in_button.click()"
   ]
  },
  {
   "cell_type": "markdown",
   "id": "4d071c5e",
   "metadata": {},
   "source": [
    "Now, is time to navigate to the company page"
   ]
  },
  {
   "cell_type": "code",
   "execution_count": null,
   "id": "37414915",
   "metadata": {},
   "outputs": [],
   "source": [
    "#Asks the company page the user wants to access\n",
    "ask_company = str(input('Enter company name: ')).lower().strip()"
   ]
  },
  {
   "cell_type": "code",
   "execution_count": null,
   "id": "38fef755",
   "metadata": {},
   "outputs": [],
   "source": [
    "linkedin_company_page = 'https://www.linkedin.com/company/' + ask_company + '/'"
   ]
  },
  {
   "cell_type": "code",
   "execution_count": null,
   "id": "ea29bfda",
   "metadata": {},
   "outputs": [],
   "source": [
    "#Creates a dictionary to save the extracted info\n",
    "info_dict = {'Company Name': [], 'Card Summary': [], 'Industry': [], 'Overview':[],'Website':[],\n",
    "             'Company_Size':[],'Company_Headquarters':[]}"
   ]
  },
  {
   "cell_type": "markdown",
   "id": "0190afe6",
   "metadata": {},
   "source": [
    "#### Extract company info"
   ]
  },
  {
   "cell_type": "code",
   "execution_count": null,
   "id": "d3b8fa2a",
   "metadata": {},
   "outputs": [],
   "source": [
    "#Goes to the company page\n",
    "company_page = driver.get(linkedin_company_page)"
   ]
  },
  {
   "cell_type": "code",
   "execution_count": null,
   "id": "34850d88",
   "metadata": {},
   "outputs": [],
   "source": [
    "#Click \"Home\" tab\n",
    "home = driver.find_element_by_link_text('Home')\n",
    "home.click()"
   ]
  },
  {
   "cell_type": "code",
   "execution_count": null,
   "id": "967aea8e",
   "metadata": {},
   "outputs": [],
   "source": [
    "#Extract the info and turn them into strings\n",
    "company_name = driver.find_element_by_tag_name('h1')\n",
    "company_name = company_name.text\n",
    "\n",
    "card_summary = driver.find_element_by_tag_name('p')\n",
    "card_summary = card_summary.text\n",
    "\n",
    "company_industry =  driver.find_element_by_class_name('org-top-card-summary-info-list__info-item')\n",
    "company_industry = company_industry.text"
   ]
  },
  {
   "cell_type": "markdown",
   "id": "396801b5",
   "metadata": {},
   "source": [
    "Goes to the \"About\" tab to extract extra info"
   ]
  },
  {
   "cell_type": "code",
   "execution_count": null,
   "id": "42a1b466",
   "metadata": {},
   "outputs": [],
   "source": [
    "#Click \"About\" tab\n",
    "about_section = home = driver.find_element_by_link_text('About')\n",
    "home.click()"
   ]
  },
  {
   "cell_type": "code",
   "execution_count": null,
   "id": "2b79a8a3",
   "metadata": {},
   "outputs": [],
   "source": [
    "#Extracts the text in the overview section\n",
    "overview_section = driver.find_element_by_class_name('text-body-small')\n",
    "overview_section = overview_section.text\n",
    "\n",
    "#Removes the \"\\n\" from the text content\n",
    "overview_section =  overview_section.replace('\\n', ' ')"
   ]
  },
  {
   "cell_type": "code",
   "execution_count": null,
   "id": "543ef169",
   "metadata": {},
   "outputs": [],
   "source": [
    "#Company's website\n",
    "website = driver.find_element_by_xpath('/html/body/div[5]/div[3]/div/div[2]/div/div[2]/main/div[2]/div/div[2]/div[1]/section/dl/dd[1]/a')\n",
    "website = website.text\n",
    "\n",
    "#Company size\n",
    "company_size = driver.find_element_by_xpath('/html/body/div[5]/div[3]/div/div[2]/div/div[2]/main/div[2]/div/div[2]/div[1]/section/dl/dd[3]')\n",
    "company_size = company_size.text\n",
    "\n",
    "#Company Headquarters\n",
    "company_headquarters = driver.find_element_by_xpath('/html/body/div[5]/div[3]/div/div[2]/div/div[2]/main/div[2]/div/div[2]/div[1]/section/dl/dd[5]')\n",
    "company_headquarters = company_headquarters.text"
   ]
  },
  {
   "cell_type": "code",
   "execution_count": null,
   "id": "9ae4f73f",
   "metadata": {},
   "outputs": [],
   "source": [
    "#Put the information extracted in the dictionary\n",
    "info_dict['Company Name'] = company_name\n",
    "info_dict['Card Summary'] = card_summary\n",
    "info_dict['Industry'] = company_industry\n",
    "info_dict['Overview'] = overview_section\n",
    "info_dict['Website'] = website\n",
    "info_dict['Company_Size'] = company_size\n",
    "info_dict['Company_Headquarters'] = company_headquarters"
   ]
  },
  {
   "cell_type": "code",
   "execution_count": null,
   "id": "d46399e6",
   "metadata": {},
   "outputs": [],
   "source": [
    "#Show the dictionary\n",
    "info_dict"
   ]
  },
  {
   "cell_type": "code",
   "execution_count": null,
   "id": "343e2c64",
   "metadata": {},
   "outputs": [],
   "source": [
    "#Convert the dictionary into a dataframe\n",
    "data_frame = pd.DataFrame(list(info_dict.items()),columns = ['Attributes','Values'])"
   ]
  },
  {
   "cell_type": "code",
   "execution_count": null,
   "id": "34ebe75c",
   "metadata": {},
   "outputs": [],
   "source": [
    "#Shows the dataframe\n",
    "data_frame"
   ]
  },
  {
   "cell_type": "code",
   "execution_count": null,
   "id": "694a2786",
   "metadata": {},
   "outputs": [],
   "source": [
    "#To see the information that are not complete in the DataFrame\n",
    "info_dict['Overview']"
   ]
  },
  {
   "cell_type": "markdown",
   "id": "862aa834",
   "metadata": {},
   "source": [
    "## End"
   ]
  }
 ],
 "metadata": {
  "kernelspec": {
   "display_name": "Python 3",
   "language": "python",
   "name": "python3"
  },
  "language_info": {
   "codemirror_mode": {
    "name": "ipython",
    "version": 3
   },
   "file_extension": ".py",
   "mimetype": "text/x-python",
   "name": "python",
   "nbconvert_exporter": "python",
   "pygments_lexer": "ipython3",
   "version": "3.8.8"
  }
 },
 "nbformat": 4,
 "nbformat_minor": 5
}
