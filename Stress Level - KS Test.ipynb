{
 "cells": [
  {
   "cell_type": "markdown",
   "id": "c15bf29b",
   "metadata": {},
   "source": [
    "# Stress Level - KS Test"
   ]
  },
  {
   "cell_type": "markdown",
   "id": "ff4d1c56",
   "metadata": {},
   "source": [
    "Source: https://www.kaggle.com/datasets/laavanya/stress-level-detection"
   ]
  },
  {
   "cell_type": "code",
   "execution_count": 1,
   "id": "c468c8de",
   "metadata": {},
   "outputs": [],
   "source": [
    "#Import libraries\n",
    "import pandas as pd"
   ]
  },
  {
   "cell_type": "markdown",
   "id": "b258486d",
   "metadata": {},
   "source": [
    "“Humidity – Temperature – Step count – Stress levels” represents the titles for Stress-Lysis.csv file. \n",
    "\n",
    "Based on the human’s physical activity, the stress levels of the human being are detected and analyzed here. A dataset of 2001 samples is provided for human body humidity, body temperature and the number of steps taken by the user. Three different classifications of stress are performed, low stress, normal stress, and high stress. More information on how this data is analyzed can be found at “L. Rachakonda, S. P. Mohanty, E. Kougianos, and P. Sundaravadivel, “Stress-Lysis: A DNN-Integrated Edge Device for Stress Level Detection in the IoMT,” IEEE Trans. Conum. Electron., vol. 65, no. 4, pp. 474–483, 2019.” \n"
   ]
  },
  {
   "cell_type": "markdown",
   "id": "72a35e33",
   "metadata": {},
   "source": [
    "References:\n",
    "\n",
    "1.\tL. Rachakonda, S. P. Mohanty, E. Kougianos, and P. Sundaravadivel, “Stress-Lysis: A DNN-Integrated Edge Device for Stress Level Detection in the IoMT,” IEEE Trans. Conum. Electron., vol. 65, no. 4, pp. 474–483, 2019.\n",
    "2.\tL. Rachakonda, P. Sundaravadivel, S. P. Mohanty, E. Kougianos, and M. Ganapathiraju, “A Smart Sensor in the IoMT for Stress Level Detection”, in Proceedings of the 4th IEEE International Symposium on Smart Electronic Systems (iSES), 2018, pp. 141--145.\n"
   ]
  },
  {
   "cell_type": "code",
   "execution_count": 2,
   "id": "98d6d43d",
   "metadata": {},
   "outputs": [],
   "source": [
    "import numpy as np\n",
    "import matplotlib.pyplot as plt \n",
    "import seaborn as sns\n",
    "from scipy.stats import skewnorm"
   ]
  },
  {
   "cell_type": "code",
   "execution_count": 3,
   "id": "d9f67c7d",
   "metadata": {},
   "outputs": [],
   "source": [
    "#Read the data\n",
    "data = pd.read_csv('Stress-Lysis.csv')"
   ]
  },
  {
   "cell_type": "code",
   "execution_count": 4,
   "id": "906fc03e",
   "metadata": {},
   "outputs": [
    {
     "data": {
      "text/html": [
       "<div>\n",
       "<style scoped>\n",
       "    .dataframe tbody tr th:only-of-type {\n",
       "        vertical-align: middle;\n",
       "    }\n",
       "\n",
       "    .dataframe tbody tr th {\n",
       "        vertical-align: top;\n",
       "    }\n",
       "\n",
       "    .dataframe thead th {\n",
       "        text-align: right;\n",
       "    }\n",
       "</style>\n",
       "<table border=\"1\" class=\"dataframe\">\n",
       "  <thead>\n",
       "    <tr style=\"text-align: right;\">\n",
       "      <th></th>\n",
       "      <th>Humidity</th>\n",
       "      <th>Temperature</th>\n",
       "      <th>Step count</th>\n",
       "      <th>Stress Level</th>\n",
       "    </tr>\n",
       "  </thead>\n",
       "  <tbody>\n",
       "    <tr>\n",
       "      <th>0</th>\n",
       "      <td>21.33</td>\n",
       "      <td>90.33</td>\n",
       "      <td>123</td>\n",
       "      <td>1</td>\n",
       "    </tr>\n",
       "    <tr>\n",
       "      <th>1</th>\n",
       "      <td>21.41</td>\n",
       "      <td>90.41</td>\n",
       "      <td>93</td>\n",
       "      <td>1</td>\n",
       "    </tr>\n",
       "    <tr>\n",
       "      <th>2</th>\n",
       "      <td>27.12</td>\n",
       "      <td>96.12</td>\n",
       "      <td>196</td>\n",
       "      <td>2</td>\n",
       "    </tr>\n",
       "    <tr>\n",
       "      <th>3</th>\n",
       "      <td>27.64</td>\n",
       "      <td>96.64</td>\n",
       "      <td>177</td>\n",
       "      <td>2</td>\n",
       "    </tr>\n",
       "    <tr>\n",
       "      <th>4</th>\n",
       "      <td>10.87</td>\n",
       "      <td>79.87</td>\n",
       "      <td>87</td>\n",
       "      <td>0</td>\n",
       "    </tr>\n",
       "  </tbody>\n",
       "</table>\n",
       "</div>"
      ],
      "text/plain": [
       "   Humidity  Temperature  Step count  Stress Level\n",
       "0     21.33        90.33         123             1\n",
       "1     21.41        90.41          93             1\n",
       "2     27.12        96.12         196             2\n",
       "3     27.64        96.64         177             2\n",
       "4     10.87        79.87          87             0"
      ]
     },
     "execution_count": 4,
     "metadata": {},
     "output_type": "execute_result"
    }
   ],
   "source": [
    "data.head()"
   ]
  },
  {
   "cell_type": "code",
   "execution_count": 5,
   "id": "293ee5ba",
   "metadata": {},
   "outputs": [
    {
     "data": {
      "text/html": [
       "<div>\n",
       "<style scoped>\n",
       "    .dataframe tbody tr th:only-of-type {\n",
       "        vertical-align: middle;\n",
       "    }\n",
       "\n",
       "    .dataframe tbody tr th {\n",
       "        vertical-align: top;\n",
       "    }\n",
       "\n",
       "    .dataframe thead th {\n",
       "        text-align: right;\n",
       "    }\n",
       "</style>\n",
       "<table border=\"1\" class=\"dataframe\">\n",
       "  <thead>\n",
       "    <tr style=\"text-align: right;\">\n",
       "      <th></th>\n",
       "      <th>Humidity</th>\n",
       "      <th>Temperature</th>\n",
       "      <th>Step count</th>\n",
       "      <th>Stress Level</th>\n",
       "    </tr>\n",
       "  </thead>\n",
       "  <tbody>\n",
       "    <tr>\n",
       "      <th>0</th>\n",
       "      <td>21.33</td>\n",
       "      <td>90.33</td>\n",
       "      <td>123</td>\n",
       "      <td>Normal</td>\n",
       "    </tr>\n",
       "    <tr>\n",
       "      <th>1</th>\n",
       "      <td>21.41</td>\n",
       "      <td>90.41</td>\n",
       "      <td>93</td>\n",
       "      <td>Normal</td>\n",
       "    </tr>\n",
       "    <tr>\n",
       "      <th>2</th>\n",
       "      <td>27.12</td>\n",
       "      <td>96.12</td>\n",
       "      <td>196</td>\n",
       "      <td>High</td>\n",
       "    </tr>\n",
       "    <tr>\n",
       "      <th>3</th>\n",
       "      <td>27.64</td>\n",
       "      <td>96.64</td>\n",
       "      <td>177</td>\n",
       "      <td>High</td>\n",
       "    </tr>\n",
       "    <tr>\n",
       "      <th>4</th>\n",
       "      <td>10.87</td>\n",
       "      <td>79.87</td>\n",
       "      <td>87</td>\n",
       "      <td>Low</td>\n",
       "    </tr>\n",
       "  </tbody>\n",
       "</table>\n",
       "</div>"
      ],
      "text/plain": [
       "   Humidity  Temperature  Step count Stress Level\n",
       "0     21.33        90.33         123       Normal\n",
       "1     21.41        90.41          93       Normal\n",
       "2     27.12        96.12         196         High\n",
       "3     27.64        96.64         177         High\n",
       "4     10.87        79.87          87          Low"
      ]
     },
     "execution_count": 5,
     "metadata": {},
     "output_type": "execute_result"
    }
   ],
   "source": [
    "#Replace Stress Level values\n",
    "data['Stress Level'] = data['Stress Level'].map({0:'Low',1:'Normal',2:'High'})\n",
    "data.sort_values(by=['Stress Level'])\n",
    "data.head()"
   ]
  },
  {
   "cell_type": "code",
   "execution_count": 6,
   "id": "e30dd21c",
   "metadata": {},
   "outputs": [
    {
     "data": {
      "text/plain": [
       "(2001, 4)"
      ]
     },
     "execution_count": 6,
     "metadata": {},
     "output_type": "execute_result"
    }
   ],
   "source": [
    "#Data set size (lines,columns)\n",
    "data.shape"
   ]
  },
  {
   "cell_type": "code",
   "execution_count": 7,
   "id": "ee8ab3ad",
   "metadata": {},
   "outputs": [
    {
     "data": {
      "text/plain": [
       "Low       501\n",
       "High      710\n",
       "Normal    790\n",
       "Name: Stress Level, dtype: int64"
      ]
     },
     "execution_count": 7,
     "metadata": {},
     "output_type": "execute_result"
    }
   ],
   "source": [
    "#Analyze data points\n",
    "data['Stress Level'].value_counts(ascending=True)"
   ]
  },
  {
   "cell_type": "code",
   "execution_count": 8,
   "id": "69df9df8",
   "metadata": {},
   "outputs": [
    {
     "data": {
      "image/png": "[encoded data removed]",
      "text/plain": [
       "<Figure size 720x576 with 1 Axes>"
      ]
     },
     "metadata": {},
     "output_type": "display_data"
    }
   ],
   "source": [
    "#Histogram Humidity\n",
    "sns.set(rc={'figure.figsize':(10,8)})\n",
    "sns.set_style('dark')\n",
    "ax = sns.histplot(data=data,x='Humidity',hue='Stress Level',element='step',palette='Set1').set_title('Humidity Histogram')\n",
    "ax;"
   ]
  },
  {
   "cell_type": "code",
   "execution_count": 9,
   "id": "37a0a906",
   "metadata": {},
   "outputs": [
    {
     "data": {
      "image/png": "[encoded data removed]",
      "text/plain": [
       "<Figure size 720x576 with 1 Axes>"
      ]
     },
     "metadata": {},
     "output_type": "display_data"
    }
   ],
   "source": [
    "#Histogram Temperature\n",
    "sns.set(rc={'figure.figsize':(10,8)})\n",
    "sns.set_style('dark')\n",
    "ax = sns.histplot(data=data,x='Temperature',hue='Stress Level',element='step',palette='Set1').set_title('Temperature Histogram')\n",
    "ax;"
   ]
  },
  {
   "cell_type": "code",
   "execution_count": 10,
   "id": "fb451e12",
   "metadata": {},
   "outputs": [
    {
     "data": {
      "image/png": "[encoded data removed]",
      "text/plain": [
       "<Figure size 720x576 with 1 Axes>"
      ]
     },
     "metadata": {},
     "output_type": "display_data"
    }
   ],
   "source": [
    "#Histogram Step count\n",
    "sns.set(rc={'figure.figsize':(10,8)})\n",
    "sns.set_style('dark')\n",
    "ax = sns.histplot(data=data,x='Step count',hue='Stress Level',element='step',palette='Set1').set_title('Step count Histogram')\n",
    "ax;"
   ]
  },
  {
   "cell_type": "code",
   "execution_count": 11,
   "id": "5c1b7896",
   "metadata": {},
   "outputs": [
    {
     "data": {
      "image/png": "[encoded data removed]",
      "text/plain": [
       "<Figure size 720x576 with 1 Axes>"
      ]
     },
     "metadata": {},
     "output_type": "display_data"
    }
   ],
   "source": [
    "#Boxplot Humidity\n",
    "sns.set_style('dark')\n",
    "ax = sns.boxplot(x='Stress Level',y='Humidity',data=data,palette='Set1').set_title('Temperature Boxplot')\n",
    "ax;"
   ]
  },
  {
   "cell_type": "code",
   "execution_count": 12,
   "id": "473c15da",
   "metadata": {},
   "outputs": [
    {
     "data": {
      "image/png": "[encoded data removed]",
      "text/plain": [
       "<Figure size 720x576 with 1 Axes>"
      ]
     },
     "metadata": {},
     "output_type": "display_data"
    }
   ],
   "source": [
    "#Boxplot Temperature\n",
    "sns.set_style('dark')\n",
    "ax = sns.boxplot(x='Stress Level',y='Temperature',data=data,palette='Set1').set_title('Temperature Boxplot')\n",
    "ax;"
   ]
  },
  {
   "cell_type": "code",
   "execution_count": 13,
   "id": "41d5a15a",
   "metadata": {},
   "outputs": [
    {
     "data": {
      "image/png": "[encoded data removed]",
      "text/plain": [
       "<Figure size 720x576 with 1 Axes>"
      ]
     },
     "metadata": {},
     "output_type": "display_data"
    }
   ],
   "source": [
    "#Boxplot Step Count\n",
    "sns.set_style('dark')\n",
    "ax = sns.boxplot(x='Stress Level',y='Step count',data=data,palette='Set1').set_title('Step Count Boxplot')\n",
    "ax;"
   ]
  },
  {
   "cell_type": "markdown",
   "id": "58c50559",
   "metadata": {},
   "source": [
    "### KS Test"
   ]
  },
  {
   "cell_type": "markdown",
   "id": "aaab56f6",
   "metadata": {},
   "source": [
    "KS Statistics compares the two cumulative distributions and returns the maximum difference between them\n",
    "It's a non-parametric test (i.e. it don't need to test any assumption related to the distribution of the data)\n",
    "\n",
    "In this test, Null Hypotesis states both cumulative distributions are similar\n",
    "Rejecting the null hypothesis means cumulative distributions are different"
   ]
  },
  {
   "cell_type": "code",
   "execution_count": 14,
   "id": "2296509c",
   "metadata": {},
   "outputs": [],
   "source": [
    "#KS - High and Normal Stress Level\n",
    "from scipy.stats import ks_2samp"
   ]
  },
  {
   "cell_type": "code",
   "execution_count": 24,
   "id": "33c6377e",
   "metadata": {},
   "outputs": [],
   "source": [
    "#Series for Temperature of the Stress levels\n",
    "normal_level_temp = data.loc[data['Stress Level']=='Normal']['Temperature']\n",
    "high_level_temp = data.loc[data['Stress Level']=='High']['Temperature']\n",
    "low_level_temp = data.loc[data['Stress Level'] == 'Low']['Temperature']"
   ]
  },
  {
   "cell_type": "code",
   "execution_count": 26,
   "id": "f87a626a",
   "metadata": {},
   "outputs": [
    {
     "data": {
      "text/plain": [
       "KstestResult(statistic=1.0, pvalue=3.3306690738754696e-16)"
      ]
     },
     "execution_count": 26,
     "metadata": {},
     "output_type": "execute_result"
    }
   ],
   "source": [
    "#Test Normal and High Level\n",
    "ks_2samp(normal_level_temp,high_level_temp)"
   ]
  },
  {
   "cell_type": "code",
   "execution_count": 27,
   "id": "0e3b4096",
   "metadata": {},
   "outputs": [
    {
     "data": {
      "text/plain": [
       "False"
      ]
     },
     "execution_count": 27,
     "metadata": {},
     "output_type": "execute_result"
    }
   ],
   "source": [
    "ks_2samp(normal_level_temp,high_level_temp)[1] > 0.05"
   ]
  },
  {
   "cell_type": "markdown",
   "id": "cb37ebbd",
   "metadata": {},
   "source": [
    "As the p-value is lower than 0.05, the distributions are different"
   ]
  },
  {
   "cell_type": "code",
   "execution_count": 28,
   "id": "c7bee9b1",
   "metadata": {},
   "outputs": [
    {
     "data": {
      "text/plain": [
       "KstestResult(statistic=1.0, pvalue=0.0)"
      ]
     },
     "execution_count": 28,
     "metadata": {},
     "output_type": "execute_result"
    }
   ],
   "source": [
    "#Test High and Low level\n",
    "ks_2samp(low_level_temp,high_level_temp)"
   ]
  },
  {
   "cell_type": "markdown",
   "id": "1b79e7a1",
   "metadata": {},
   "source": [
    "As the p-value is lower than 0.05, the distributions are different"
   ]
  },
  {
   "cell_type": "code",
   "execution_count": 29,
   "id": "5b3b9b87",
   "metadata": {},
   "outputs": [],
   "source": [
    "##Series for Humidity of the Stress levels\n",
    "normal_level_hum = data.loc[data['Stress Level']=='Normal']['Humidity']\n",
    "high_level_hum = data.loc[data['Stress Level']=='High']['Humidity']\n",
    "low_level_hum = data.loc[data['Stress Level'] == 'Low']['Humidity']"
   ]
  },
  {
   "cell_type": "code",
   "execution_count": 30,
   "id": "e18306dd",
   "metadata": {},
   "outputs": [
    {
     "data": {
      "text/plain": [
       "KstestResult(statistic=1.0, pvalue=3.3306690738754696e-16)"
      ]
     },
     "execution_count": 30,
     "metadata": {},
     "output_type": "execute_result"
    }
   ],
   "source": [
    "#Test Normal and High Level\n",
    "ks_2samp(normal_level_hum,high_level_hum)"
   ]
  },
  {
   "cell_type": "markdown",
   "id": "80b0c7e4",
   "metadata": {},
   "source": [
    "It returned the same results as the test with the temperature"
   ]
  },
  {
   "cell_type": "code",
   "execution_count": 31,
   "id": "ab7c430e",
   "metadata": {},
   "outputs": [
    {
     "data": {
      "text/plain": [
       "KstestResult(statistic=1.0, pvalue=0.0)"
      ]
     },
     "execution_count": 31,
     "metadata": {},
     "output_type": "execute_result"
    }
   ],
   "source": [
    "#Test High and Low level\n",
    "ks_2samp(low_level_hum,high_level_hum)"
   ]
  },
  {
   "cell_type": "markdown",
   "id": "a03aa2ca",
   "metadata": {},
   "source": [
    "It returned the same results as the test with the temperature"
   ]
  }
 ],
 "metadata": {
  "kernelspec": {
   "display_name": "Python 3 (ipykernel)",
   "language": "python",
   "name": "python3"
  },
  "language_info": {
   "codemirror_mode": {
    "name": "ipython",
    "version": 3
   },
   "file_extension": ".py",
   "mimetype": "text/x-python",
   "name": "python",
   "nbconvert_exporter": "python",
   "pygments_lexer": "ipython3",
   "version": "3.8.8"
  }
 },
 "nbformat": 4,
 "nbformat_minor": 5
}
